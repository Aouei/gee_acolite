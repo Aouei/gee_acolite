{
 "cells": [
  {
   "cell_type": "markdown",
   "metadata": {},
   "source": [
    "## Libraries"
   ]
  },
  {
   "cell_type": "code",
   "execution_count": 1,
   "metadata": {},
   "outputs": [],
   "source": [
    "import ee\n",
    "import sys\n",
    "import geemap\n",
    "import geemap.colormaps as cm\n",
    "\n",
    "ee.Authenticate()\n",
    "ee.Initialize()\n",
    "\n",
    "\n",
    "from functools import partial\n",
    "\n",
    "\n",
    "ACOLITE_PATH = r'C:\\Users\\sergi\\Documents\\repos\\gee_acolite\\src'\n",
    "\n",
    "sys.path.append(ACOLITE_PATH)\n",
    "\n",
    "import ACOLITE"
   ]
  },
  {
   "cell_type": "markdown",
   "metadata": {},
   "source": [
    "## L2 from GEE with sen2cor"
   ]
  },
  {
   "cell_type": "code",
   "execution_count": 2,
   "metadata": {},
   "outputs": [
    {
     "data": {
      "text/html": [
       "\n",
       "            <style>\n",
       "                .geemap-dark {\n",
       "                    --jp-widgets-color: white;\n",
       "                    --jp-widgets-label-color: white;\n",
       "                    --jp-ui-font-color1: white;\n",
       "                    --jp-layout-color2: #454545;\n",
       "                    background-color: #383838;\n",
       "                }\n",
       "\n",
       "                .geemap-dark .jupyter-button {\n",
       "                    --jp-layout-color3: #383838;\n",
       "                }\n",
       "\n",
       "                .geemap-colab {\n",
       "                    background-color: var(--colab-primary-surface-color, white);\n",
       "                }\n",
       "\n",
       "                .geemap-colab .jupyter-button {\n",
       "                    --jp-layout-color3: var(--colab-primary-surface-color, white);\n",
       "                }\n",
       "            </style>\n",
       "            "
      ],
      "text/plain": [
       "<IPython.core.display.HTML object>"
      ]
     },
     "metadata": {},
     "output_type": "display_data"
    }
   ],
   "source": [
    "# def to_rrs(image):\n",
    "#     return image.divide(10_000)\n",
    "\n",
    "# a = []\n",
    "# for (bounds, start, end, tile) in [                                \n",
    "#                                 ([-60.827179, -63.048731, -60.420685, -62.867057], '2016-11-13', '2016-11-14', '21EUL'),\n",
    "#                                 ([-60.827179, -63.048731, -60.420685, -62.867057], '2020-01-19', '2020-01-20', '21EUL'),\n",
    "#                                 ([-60.827179, -63.048731, -60.420685, -62.867057], '2020-12-27', '2020-12-28', '21EUL'),\n",
    "#                                 ([-60.827179, -63.048731, -60.420685, -62.867057], '2021-11-22', '2021-11-23', '21EUL'),\n",
    "#                                 ([-60.827179, -63.048731, -60.420685, -62.867057], '2022-03-29', '2022-03-30', '21EUL'),\n",
    "#                                 ([-60.827179, -63.048731, -60.420685, -62.867057], '2023-03-17', '2023-03-18', '21EUL'),\n",
    "#                                 ([-60.827179, -63.048731, -60.420685, -62.867057], '2023-09-10', '2023-09-11', '21EUL'),\n",
    "#                                 ([-60.827179, -63.048731, -60.420685, -62.867057], '2024-10-24', '2024-10-25', '21EUL'),\n",
    "#                                 ([-60.827179, -63.048731, -60.420685, -62.867057], '2025-01-25', '2025-01-26', '21EUL'),\n",
    "#                                 ]:\n",
    "      \n",
    "#     roi = ee.Geometry.Rectangle(bounds)\n",
    "#     a.append( ACOLITE.search_with_clouds(roi, start, end, tile = tile, collection = 'S2_SR_HARMONIZED').map(to_rrs).first() )\n",
    "     \n",
    "# sentinel2_l2r_rrs = ee.ImageCollection.fromImages(a)\n",
    "\n",
    "# print(f'Collection size {sentinel2_l2r_rrs.size().getInfo()}')\n",
    "\n",
    "# sentinel2_l2w_rrs = sentinel2_l2r_rrs.map(ACOLITE.mask_water_by_SWIR1)\n",
    "# for product in [ACOLITE.add_zgreen, ACOLITE.add_zred]:\n",
    "#         sentinel2_l2w_rrs = sentinel2_l2w_rrs.map(product)\n",
    "\n",
    "# sentinel2_l2w_rrs = ee.ImageCollection.fromImages([sentinel2_l2w_rrs.max()])"
   ]
  },
  {
   "cell_type": "markdown",
   "metadata": {},
   "source": [
    "## GEE + ACOLITE integration"
   ]
  },
  {
   "cell_type": "code",
   "execution_count": 3,
   "metadata": {},
   "outputs": [
    {
     "data": {
      "text/html": [
       "\n",
       "            <style>\n",
       "                .geemap-dark {\n",
       "                    --jp-widgets-color: white;\n",
       "                    --jp-widgets-label-color: white;\n",
       "                    --jp-ui-font-color1: white;\n",
       "                    --jp-layout-color2: #454545;\n",
       "                    background-color: #383838;\n",
       "                }\n",
       "\n",
       "                .geemap-dark .jupyter-button {\n",
       "                    --jp-layout-color3: #383838;\n",
       "                }\n",
       "\n",
       "                .geemap-colab {\n",
       "                    background-color: var(--colab-primary-surface-color, white);\n",
       "                }\n",
       "\n",
       "                .geemap-colab .jupyter-button {\n",
       "                    --jp-layout-color3: var(--colab-primary-surface-color, white);\n",
       "                }\n",
       "            </style>\n",
       "            "
      ],
      "text/plain": [
       "<IPython.core.display.HTML object>"
      ]
     },
     "metadata": {},
     "output_type": "display_data"
    },
    {
     "name": "stdout",
     "output_type": "stream",
     "text": [
      "Collection size 1\n",
      "sel_aot=np.float64(0.001), sel_lut='ACOLITE-LUT-202110-MOD1', sza=50.1587515672, vza=8.248614186813846, raa=88.6513636419923\n"
     ]
    }
   ],
   "source": [
    "images = []\n",
    "for (bounds, start, end, tile) in [                                \n",
    "                                ([-60.827179, -63.048731, -60.420685, -62.867057], '2016-11-13', '2016-11-14', '21EUL'),\n",
    "                                # ([-60.827179, -63.048731, -60.420685, -62.867057], '2020-01-19', '2020-01-20', '21EUL'),\n",
    "                                # ([-60.827179, -63.048731, -60.420685, -62.867057], '2020-12-27', '2020-12-28', '21EUL'),\n",
    "                                # ([-60.827179, -63.048731, -60.420685, -62.867057], '2021-11-22', '2021-11-23', '21EUL'),\n",
    "                                # ([-60.827179, -63.048731, -60.420685, -62.867057], '2022-03-29', '2022-03-30', '21EUL'),\n",
    "                                # ([-60.827179, -63.048731, -60.420685, -62.867057], '2023-03-17', '2023-03-18', '21EUL'),\n",
    "                                # ([-60.827179, -63.048731, -60.420685, -62.867057], '2023-09-10', '2023-09-11', '21EUL'),\n",
    "                                # ([-60.827179, -63.048731, -60.420685, -62.867057], '2024-10-24', '2024-10-25', '21EUL'),\n",
    "                                # ([-60.827179, -63.048731, -60.420685, -62.867057], '2025-01-25', '2025-01-26', '21EUL'),\n",
    "                                ]:\n",
    "      \n",
    "    roi = ee.Geometry.Rectangle(bounds)\n",
    "    images.append( ACOLITE.search_with_clouds(roi, start, end, tile = tile).first() )\n",
    "     \n",
    "tolerance = 10\n",
    "mask_clouds_by_probability = partial(ACOLITE.mask_clouds_by_probability, threshold = tolerance)\n",
    "\n",
    "sentinel2_l1 = ee.ImageCollection.fromImages(images).map(mask_clouds_by_probability)\n",
    "print(f'Collection size {sentinel2_l1.size().getInfo()}')\n",
    "\n",
    "sentinel2_l1r_rrs = sentinel2_l1.map(ACOLITE.select_sentinel2_bands).map(ACOLITE.to_rrs) # Digital Number to rrs\n",
    "sentinel2_list = sentinel2_l1r_rrs.toList(sentinel2_l1r_rrs.size()) # Collection to List for iteration\n",
    "# pre processing\n",
    "\n",
    "# during\n",
    "images = [ ACOLITE.dask_spectrum_fitting(ee.Image(sentinel2_list.get(i)))[0] for i in range(sentinel2_l1r_rrs.size().getInfo()) ]\n",
    "sentinel2_l2r_rrs = ee.ImageCollection.fromImages( images )\n",
    "# during\n",
    "\n",
    "# post processing\n",
    "sentinel2_l2w_rrs = sentinel2_l2r_rrs.map(ACOLITE.mask_water_by_SWIR1)\n",
    "\n",
    "for product in [ACOLITE.add_zgreen, ACOLITE.add_zred]:\n",
    "    sentinel2_l2w_rrs = sentinel2_l2w_rrs.map(product)\n",
    "# post processing"
   ]
  },
  {
   "cell_type": "markdown",
   "metadata": {},
   "source": [
    "## SDB models creation"
   ]
  },
  {
   "cell_type": "code",
   "execution_count": 5,
   "metadata": {},
   "outputs": [
    {
     "data": {
      "text/html": [
       "\n",
       "            <style>\n",
       "                .geemap-dark {\n",
       "                    --jp-widgets-color: white;\n",
       "                    --jp-widgets-label-color: white;\n",
       "                    --jp-ui-font-color1: white;\n",
       "                    --jp-layout-color2: #454545;\n",
       "                    background-color: #383838;\n",
       "                }\n",
       "\n",
       "                .geemap-dark .jupyter-button {\n",
       "                    --jp-layout-color3: #383838;\n",
       "                }\n",
       "\n",
       "                .geemap-colab {\n",
       "                    background-color: var(--colab-primary-surface-color, white);\n",
       "                }\n",
       "\n",
       "                .geemap-colab .jupyter-button {\n",
       "                    --jp-layout-color3: var(--colab-primary-surface-color, white);\n",
       "                }\n",
       "            </style>\n",
       "            "
      ],
      "text/plain": [
       "<IPython.core.display.HTML object>"
      ]
     },
     "metadata": {},
     "output_type": "display_data"
    },
    {
     "name": "stdout",
     "output_type": "stream",
     "text": [
      "zred y = 26.481x -29.305\n",
      "zgreen y = 64.192x -63.697\n"
     ]
    }
   ],
   "source": [
    "deception_calibration = geemap.shp_to_ee(r\"C:\\Users\\sergi\\Documents\\repos\\bathypy\\data\\shapefiles\\deception_calibration\\deception_calibration.shp\")\n",
    "deception_land = geemap.shp_to_ee(r\"C:\\Users\\sergi\\Documents\\repos\\bathypy\\data\\shapefiles\\deception\\deception.shp\")\n",
    "mask = ee.Image.constant(1).clip(deception_land).mask().Not()\n",
    "\n",
    "max_depth = 6\n",
    "\n",
    "in_situ = ee.Image('projects/ee-sergiohercar1/assets/Deception/DCI_UTM20_ALL').rename('depth')\n",
    "in_situ = in_situ.updateMask(in_situ.lte(0)).multiply(-1)\n",
    "valid_depth = in_situ.lte(max_depth)\n",
    "in_situ = in_situ.updateMask(valid_depth)\n",
    "\n",
    "deception_image = ee.ImageCollection.fromImages([sentinel2_l2w_rrs.select(['zred', 'zgreen']).max()]).first()\n",
    "\n",
    "\n",
    "model = ee.Image()\n",
    "for pseudomodel in ['zred', 'zgreen']:\n",
    "    image_to_calibration = ee.Image(1).addBands(deception_image.select(pseudomodel).rename(pseudomodel))\n",
    "    image_to_calibration = image_to_calibration.addBands(in_situ)\n",
    "\n",
    "    linear_regression = image_to_calibration.reduceRegion(\n",
    "        reducer=ee.Reducer.robustLinearRegression(numX=2, numY=1),\n",
    "        scale = 10,\n",
    "        geometry = deception_calibration\n",
    "    )\n",
    "\n",
    "    coefficients = ee.Array(linear_regression.get(\"coefficients\"))\n",
    "    n = coefficients.get([0, 0])\n",
    "    m = coefficients.get([1, 0])\n",
    "\n",
    "    print(pseudomodel, f'y = {m.getInfo():.3f}x {n.getInfo():+.3f}')\n",
    "\n",
    "    regression = ee.Image().expression('m * x + n', {'x' : deception_image.select(pseudomodel), \n",
    "                                                     'n' : n, 'm' : m}).rename(pseudomodel.replace('z', 'SDB '))\n",
    "\n",
    "    model = model.addBands(regression)\n",
    "\n",
    "model = model.addBands(ACOLITE.switching_model(model.select('SDB green'), model.select('SDB red')))\n",
    "model = model.updateMask(valid_depth)"
   ]
  },
  {
   "cell_type": "markdown",
   "metadata": {},
   "source": [
    "## Plots"
   ]
  },
  {
   "cell_type": "code",
   "execution_count": 7,
   "metadata": {},
   "outputs": [
    {
     "data": {
      "text/html": [
       "\n",
       "            <style>\n",
       "                .geemap-dark {\n",
       "                    --jp-widgets-color: white;\n",
       "                    --jp-widgets-label-color: white;\n",
       "                    --jp-ui-font-color1: white;\n",
       "                    --jp-layout-color2: #454545;\n",
       "                    background-color: #383838;\n",
       "                }\n",
       "\n",
       "                .geemap-dark .jupyter-button {\n",
       "                    --jp-layout-color3: #383838;\n",
       "                }\n",
       "\n",
       "                .geemap-colab {\n",
       "                    background-color: var(--colab-primary-surface-color, white);\n",
       "                }\n",
       "\n",
       "                .geemap-colab .jupyter-button {\n",
       "                    --jp-layout-color3: var(--colab-primary-surface-color, white);\n",
       "                }\n",
       "            </style>\n",
       "            "
      ],
      "text/plain": [
       "<IPython.core.display.HTML object>"
      ]
     },
     "metadata": {},
     "output_type": "display_data"
    },
    {
     "data": {
      "application/vnd.jupyter.widget-view+json": {
       "model_id": "fd8e2995f5dd419093bc26231926a193",
       "version_major": 2,
       "version_minor": 0
      },
      "text/plain": [
       "Map(center=[0, 0], controls=(WidgetControl(options=['position', 'transparent_bg'], widget=SearchDataGUI(childr…"
      ]
     },
     "execution_count": 7,
     "metadata": {},
     "output_type": "execute_result"
    }
   ],
   "source": [
    "depth_plot = {\n",
    "    'palette': cm.palettes.viridis_r,\n",
    "    'min': 0,\n",
    "    'max': 6,\n",
    "}\n",
    "\n",
    "error_plot = {\n",
    "    'palette': cm.palettes.RdGy,\n",
    "    'min': -2,\n",
    "    'max': 2,\n",
    "}\n",
    "\n",
    "error = in_situ.subtract(model)\n",
    "\n",
    "Map = geemap.Map()\n",
    "Map.addLayer(model.select('SDB red'), depth_plot, f\"SDB Red\")\n",
    "# Map.addLayer(model.select('SDB green'), depth_plot, f\"SDB Green\")\n",
    "# Map.addLayer(model.select('switching'), depth_plot, f\"SDB switching\")\n",
    "# Map.addLayer(error.select('SDB red'), error_plot, f\"SDB Red Error\")\n",
    "# Map.addLayer(error.select('SDB green'), error_plot, f\"SDB Green Error\")\n",
    "Map.addLayer(in_situ, depth_plot, f\"In situ\")\n",
    "\n",
    "Map.center_object(deception_land)\n",
    "Map.add_colorbar(depth_plot, label=\"Depth (m)\")\n",
    "Map"
   ]
  },
  {
   "cell_type": "code",
   "execution_count": null,
   "metadata": {},
   "outputs": [],
   "source": [
    "# bands = ['SDB red', 'SDB green', 'switching']\n",
    "# folder =  r'C:\\Users\\sergi\\Documents\\cadiz\\proyectos\\GOYAS\\Metadata_Extraction'\n",
    "# geemap.download_ee_image(model.select(bands), rf\"{folder}\\GEE_ACOLITE_multi_image.tif\", \n",
    "#                          roi, 'EPSG:32721', scale = 10, dtype = 'float32')"
   ]
  },
  {
   "cell_type": "code",
   "execution_count": null,
   "metadata": {},
   "outputs": [],
   "source": [
    "# bands = ['SDB red', 'SDB green', 'switching']\n",
    "# abs_image = error.select(bands).abs()\n",
    "\n",
    "# mean_abs = abs_image.reduceRegion(\n",
    "#     reducer=ee.Reducer.mean(),\n",
    "#     scale=10,\n",
    "#     maxPixels=1e8\n",
    "# )\n",
    "\n",
    "# median_abs = abs_image.reduceRegion(\n",
    "#     reducer=ee.Reducer.median(),\n",
    "#     scale=10,\n",
    "#     maxPixels=1e8\n",
    "# )\n",
    "# std_abs = abs_image.reduceRegion(\n",
    "#     reducer=ee.Reducer.stdDev(),\n",
    "#     scale=10,\n",
    "#     maxPixels=1e8\n",
    "# )\n",
    "\n",
    "# print('Mean', mean_abs.getInfo())\n",
    "# print('Median', median_abs.getInfo())\n",
    "# print('Std', std_abs.getInfo())"
   ]
  }
 ],
 "metadata": {
  "kernelspec": {
   "display_name": "gee_env",
   "language": "python",
   "name": "python3"
  },
  "language_info": {
   "codemirror_mode": {
    "name": "ipython",
    "version": 3
   },
   "file_extension": ".py",
   "mimetype": "text/x-python",
   "name": "python",
   "nbconvert_exporter": "python",
   "pygments_lexer": "ipython3",
   "version": "3.10.11"
  }
 },
 "nbformat": 4,
 "nbformat_minor": 2
}

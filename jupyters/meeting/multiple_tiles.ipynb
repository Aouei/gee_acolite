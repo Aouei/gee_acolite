{
 "cells": [
  {
   "cell_type": "markdown",
   "metadata": {},
   "source": [
    "## Libraries"
   ]
  },
  {
   "cell_type": "code",
   "execution_count": null,
   "metadata": {},
   "outputs": [],
   "source": [
    "import ee\n",
    "import sys\n",
    "import geemap\n",
    "import geemap.colormaps as cm\n",
    "\n",
    "ee.Authenticate()\n",
    "ee.Initialize()\n",
    "\n",
    "\n",
    "from functools import partial\n",
    "\n",
    "\n",
    "ACOLITE_PATH = r'C:\\Users\\sergi\\Documents\\repos\\gee_acolite\\src'\n",
    "\n",
    "sys.path.append(ACOLITE_PATH)\n",
    "\n",
    "import ACOLITE"
   ]
  },
  {
   "cell_type": "markdown",
   "metadata": {},
   "source": [
    "## L2 from GEE with sen2cor"
   ]
  },
  {
   "cell_type": "code",
   "execution_count": null,
   "metadata": {},
   "outputs": [],
   "source": [
    "# def to_rrs(image):\n",
    "#     return image.divide(10_000)\n",
    "\n",
    "# roi = ee.Geometry.LineString([[-5.39978,36.125207],[-5.350342,36.165106],[-5.289917,36.23156],[-5.213013,36.34219],[-5.158081,36.386398],[-5.064697,36.421746],[-4.949341,36.439414],[-4.822998,36.465909],[-4.702148,36.474738],[-4.608765,36.505634],[-4.526367,36.567388],[-4.487915,36.620281],[-4.438477,36.668734],[-4.383545,36.699552],[-4.312134,36.703954],[-4.174805,36.717157],[-4.081421,36.730358],[-3.982544,36.730358],[-3.883667,36.730358],[-3.779297,36.730358],[-3.685913,36.721557],[-3.587036,36.721557],[-3.521118,36.708355],[-3.389282,36.708355],[-3.312378,36.717157],[-3.22998,36.725958],[-3.164063,36.725958],[-3.054199,36.739157],[-2.982788,36.739157],[-2.889404,36.734757],[-2.807007,36.721557],[-2.702637,36.677984],[-2.647705,36.713199],[-2.598267,36.792375],[-2.532349,36.823143],[-2.356567,36.84072],[-2.318115,36.818748],[-2.213745,36.757196],[-2.164307,36.722001],[-2.098389,36.774787],[-2.04895,36.823143],[-1.983032,36.889034],[-1.928101,36.941705],[-1.867676,37.02941],[-1.801758,37.143276],[-1.774292,37.226377],[-1.73584,37.291918],[-1.675415,37.348675],[-1.587524,37.396666],[-1.461182,37.448985],[-1.362305,37.536102],[-1.246948,37.588324],[-1.098633,37.588324],[-0.97229,37.588324],[-0.900879,37.588324],[-0.818481,37.601373],[-0.725098,37.623118],[-0.725098,37.662241],[-0.725098,37.727402],[-0.76355,37.814194]])\n",
    "# start, end, tile = ('2025-02-01', '2025-02-04', None)\n",
    "    \n",
    "# sentinel2_l2r_rrs = ACOLITE.search_with_clouds(roi, start, end, tile = tile, collection = 'S2_SR_HARMONIZED').map(to_rrs)\n",
    "\n",
    "# print(f'Collection size {sentinel2_l2r_rrs.size().getInfo()}')\n",
    "\n",
    "# sentinel2_l2w_rrs = sentinel2_l2r_rrs.map(ACOLITE.mask_water_by_SWIR1)\n",
    "# for product in [ACOLITE.add_tur_nechad2016_665]:\n",
    "#         sentinel2_l2w_rrs = sentinel2_l2w_rrs.map(product)"
   ]
  },
  {
   "cell_type": "markdown",
   "metadata": {},
   "source": [
    "## GEE + ACOLITE Integration"
   ]
  },
  {
   "cell_type": "code",
   "execution_count": null,
   "metadata": {},
   "outputs": [],
   "source": [
    "roi = ee.Geometry.LineString([[-5.39978,36.125207],[-5.350342,36.165106],[-5.289917,36.23156],[-5.213013,36.34219],[-5.158081,36.386398],[-5.064697,36.421746],[-4.949341,36.439414],[-4.822998,36.465909],[-4.702148,36.474738],[-4.608765,36.505634],[-4.526367,36.567388],[-4.487915,36.620281],[-4.438477,36.668734],[-4.383545,36.699552],[-4.312134,36.703954],[-4.174805,36.717157],[-4.081421,36.730358],[-3.982544,36.730358],[-3.883667,36.730358],[-3.779297,36.730358],[-3.685913,36.721557],[-3.587036,36.721557],[-3.521118,36.708355],[-3.389282,36.708355],[-3.312378,36.717157],[-3.22998,36.725958],[-3.164063,36.725958],[-3.054199,36.739157],[-2.982788,36.739157],[-2.889404,36.734757],[-2.807007,36.721557],[-2.702637,36.677984],[-2.647705,36.713199],[-2.598267,36.792375],[-2.532349,36.823143],[-2.356567,36.84072],[-2.318115,36.818748],[-2.213745,36.757196],[-2.164307,36.722001],[-2.098389,36.774787],[-2.04895,36.823143],[-1.983032,36.889034],[-1.928101,36.941705],[-1.867676,37.02941],[-1.801758,37.143276],[-1.774292,37.226377],[-1.73584,37.291918],[-1.675415,37.348675],[-1.587524,37.396666],[-1.461182,37.448985],[-1.362305,37.536102],[-1.246948,37.588324],[-1.098633,37.588324],[-0.97229,37.588324],[-0.900879,37.588324],[-0.818481,37.601373],[-0.725098,37.623118],[-0.725098,37.662241],[-0.725098,37.727402],[-0.76355,37.814194]])\n",
    "start, end, tile = ('2025-02-01', '2025-02-04', None)\n",
    "\n",
    "# pre processing\n",
    "tolerance = 10\n",
    "mask_clouds_by_probability = partial(ACOLITE.mask_clouds_by_probability, threshold = tolerance)\n",
    "sentinel2_l1 = ACOLITE.search_with_clouds(roi, start, end, tile = tile).map(mask_clouds_by_probability)\n",
    "print(f'Collection size {sentinel2_l1.size().getInfo()}')\n",
    "\n",
    "sentinel2_l1r_rrs = sentinel2_l1.map(ACOLITE.select_sentinel2_bands).map(ACOLITE.to_rrs) # Digital Number to rrs\n",
    "sentinel2_list = sentinel2_l1r_rrs.toList(sentinel2_l1r_rrs.size()) # Collection to List for iteration\n",
    "# pre processing\n",
    "\n",
    "# during\n",
    "images = [ ACOLITE.dask_spectrum_fitting(ee.Image(sentinel2_list.get(i)))[0] for i in range(sentinel2_l1r_rrs.size().getInfo()) ]\n",
    "sentinel2_l2r_rrs = ee.ImageCollection.fromImages( images )\n",
    "# during\n",
    "\n",
    "# post processing\n",
    "sentinel2_l2w_rrs = sentinel2_l2r_rrs.map(ACOLITE.mask_water_by_SWIR1)\n",
    "\n",
    "for product in [ACOLITE.add_tur_nechad2016_665]:\n",
    "    sentinel2_l2w_rrs = sentinel2_l2w_rrs.map(product)\n",
    "# post processing"
   ]
  },
  {
   "cell_type": "markdown",
   "metadata": {},
   "source": [
    "## Plots"
   ]
  },
  {
   "cell_type": "code",
   "execution_count": null,
   "metadata": {},
   "outputs": [],
   "source": [
    "tur_plot = {\n",
    "    'palette': cm.palettes.BrBG_r,\n",
    "    'min': 0,\n",
    "    'max': 20,\n",
    "}\n",
    "\n",
    "rgb_plot = {\n",
    "    'bands': ['B4', 'B3', 'B2'],\n",
    "    'min': 0,\n",
    "    'max': 0.3,\n",
    "}\n",
    "\n",
    "# l1_image = sentinel2_l1r_rrs.mosaic()\n",
    "l2w_image = sentinel2_l2w_rrs.mosaic().select(f'TUR_Nechad2016_665')\n",
    "\n",
    "Map = geemap.Map()\n",
    "# Map.addLayer(l1_image, rgb_plot, f\"L1\")\n",
    "# Map.addLayer(l2w_image, tur_plot, f\"Turbidity\")\n",
    "\n",
    "water_images = sentinel2_l2w_rrs.toList(sentinel2_l2w_rrs.size())\n",
    "for i in range(sentinel2_l2w_rrs.size().getInfo()):\n",
    "    image = ee.Image(water_images.get(i)).select(f'TUR_Nechad2016_665')\n",
    "    Map.addLayer(image, tur_plot, f\"Turbidity {i}\")\n",
    "\n",
    "Map.center_object(roi)\n",
    "Map.add_colorbar(tur_plot, label=\"Turbidity (NTU)\")\n",
    "\n",
    "Map"
   ]
  }
 ],
 "metadata": {
  "kernelspec": {
   "display_name": "gee_env",
   "language": "python",
   "name": "python3"
  },
  "language_info": {
   "codemirror_mode": {
    "name": "ipython",
    "version": 3
   },
   "file_extension": ".py",
   "mimetype": "text/x-python",
   "name": "python",
   "nbconvert_exporter": "python",
   "pygments_lexer": "ipython3",
   "version": "3.10.11"
  }
 },
 "nbformat": 4,
 "nbformat_minor": 2
}

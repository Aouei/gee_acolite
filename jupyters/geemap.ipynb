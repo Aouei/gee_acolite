{
 "cells": [
  {
   "cell_type": "code",
   "execution_count": 1,
   "metadata": {},
   "outputs": [],
   "source": [
    "import ee\n",
    "import geemap\n",
    "\n",
    "ee.Authenticate()\n",
    "ee.Initialize()"
   ]
  },
  {
   "cell_type": "markdown",
   "metadata": {},
   "source": [
    "## Dependecies"
   ]
  },
  {
   "cell_type": "code",
   "execution_count": 2,
   "metadata": {},
   "outputs": [
    {
     "data": {
      "text/html": [
       "\n",
       "            <style>\n",
       "                .geemap-dark {\n",
       "                    --jp-widgets-color: white;\n",
       "                    --jp-widgets-label-color: white;\n",
       "                    --jp-ui-font-color1: white;\n",
       "                    --jp-layout-color2: #454545;\n",
       "                    background-color: #383838;\n",
       "                }\n",
       "\n",
       "                .geemap-dark .jupyter-button {\n",
       "                    --jp-layout-color3: #383838;\n",
       "                }\n",
       "\n",
       "                .geemap-colab {\n",
       "                    background-color: var(--colab-primary-surface-color, white);\n",
       "                }\n",
       "\n",
       "                .geemap-colab .jupyter-button {\n",
       "                    --jp-layout-color3: var(--colab-primary-surface-color, white);\n",
       "                }\n",
       "            </style>\n",
       "            "
      ],
      "text/plain": [
       "<IPython.core.display.HTML object>"
      ]
     },
     "metadata": {},
     "output_type": "display_data"
    }
   ],
   "source": [
    "import sys\n",
    "import ee\n",
    "\n",
    "from functools import partial\n",
    "\n",
    "\n",
    "ACOLITE_PATH = r'C:\\Users\\sergi\\Documents\\repos\\gee_acolite\\src'\n",
    "\n",
    "sys.path.append(ACOLITE_PATH)\n",
    "\n",
    "import ACOLITE"
   ]
  },
  {
   "cell_type": "markdown",
   "metadata": {},
   "source": [
    "## Sentinel-2 ACOLITE-Fixed"
   ]
  },
  {
   "cell_type": "code",
   "execution_count": 3,
   "metadata": {},
   "outputs": [
    {
     "data": {
      "text/html": [
       "\n",
       "            <style>\n",
       "                .geemap-dark {\n",
       "                    --jp-widgets-color: white;\n",
       "                    --jp-widgets-label-color: white;\n",
       "                    --jp-ui-font-color1: white;\n",
       "                    --jp-layout-color2: #454545;\n",
       "                    background-color: #383838;\n",
       "                }\n",
       "\n",
       "                .geemap-dark .jupyter-button {\n",
       "                    --jp-layout-color3: #383838;\n",
       "                }\n",
       "\n",
       "                .geemap-colab {\n",
       "                    background-color: var(--colab-primary-surface-color, white);\n",
       "                }\n",
       "\n",
       "                .geemap-colab .jupyter-button {\n",
       "                    --jp-layout-color3: var(--colab-primary-surface-color, white);\n",
       "                }\n",
       "            </style>\n",
       "            "
      ],
      "text/plain": [
       "<IPython.core.display.HTML object>"
      ]
     },
     "metadata": {},
     "output_type": "display_data"
    },
    {
     "name": "stdout",
     "output_type": "stream",
     "text": [
      "Tile None, L1 to L2 via Fixed DSF AC start='2016-11-13', end='2016-11-14'\n",
      "Collection size 18\n"
     ]
    }
   ],
   "source": [
    "for (bounds, start, end, tile) in [\n",
    "                                # ([-7.849388, 36.970241, -7.724075, 37.032705], '2018-10-29', '2018-10-30', '29SPA'),\n",
    "                                # ([-7.849388, 36.970241, -7.724075, 37.032705], '2019-10-02', '2019-10-03', '29SPA'),\n",
    "                                # ([-7.849388, 36.970241, -7.724075, 37.032705], '2020-10-18', '2020-10-19', '29SPA'),\n",
    "\n",
    "                                # ([-64.028848, -63.694804, -58.117281, -62.744728], '2016-11-13', '2016-11-14', None),\n",
    "\n",
    "                                # ([-9.68713, 35.538631, 4.949517, 43.978157], '2024-07-01', '2024-07-02', None),\n",
    "                                \n",
    "                                # ([-60.827179, -63.048731, -60.420685, -62.867057], '2016-11-13', '2016-11-14', '21EUL'),\n",
    "                                # ([-60.827179, -63.048731, -60.420685, -62.867057], '2020-01-19', '2020-01-20', '21EUL'),\n",
    "                                # ([-60.827179, -63.048731, -60.420685, -62.867057], '2020-12-27', '2020-12-28', '21EUL'),\n",
    "                                # ([-60.827179, -63.048731, -60.420685, -62.867057], '2021-11-22', '2021-11-23', '21EUL'),\n",
    "                                # ([-60.827179, -63.048731, -60.420685, -62.867057], '2022-03-29', '2022-03-30', '21EUL'),\n",
    "                                # # ([-60.827179, -63.048731, -60.420685, -62.867057], '2022-08-16', '2022-08-17', '21EUL'),\n",
    "                                # ([-60.827179, -63.048731, -60.420685, -62.867057], '2023-03-17', '2023-03-18', '21EUL'),\n",
    "                                # ([-60.827179, -63.048731, -60.420685, -62.867057], '2023-09-10', '2023-09-11', '21EUL'),\n",
    "                                # ([-60.827179, -63.048731, -60.420685, -62.867057], '2024-10-24', '2024-10-25', '21EUL'),\n",
    "                                # ([-60.827179, -63.048731, -60.420685, -62.867057], '2025-01-25', '2025-01-26', '21EUL'),\n",
    "                                ]:\n",
    "    \n",
    "    print(f'Tile {tile}, L1 to L2 via Fixed DSF AC {start=}, {end=}')\n",
    "\n",
    "    # pre processing\n",
    "    roi = ee.Geometry.Rectangle(bounds)\n",
    "    \n",
    "    tolerance = 10\n",
    "    mask_clouds_by_probability = partial(ACOLITE.mask_clouds_by_probability, threshold = tolerance)\n",
    "    sentinel2_l1 = ACOLITE.search_with_clouds(roi, start, end, tile = tile).map(ACOLITE.add_cloud_probability).map(mask_clouds_by_probability)\n",
    "    print(f'Collection size {sentinel2_l1.size().getInfo()}')\n",
    "\n",
    "    sentinel2_l1r_rrs = sentinel2_l1.map(ACOLITE.select_sentinel2_bands).map(ACOLITE.to_rrs) # Digital Number to rrs\n",
    "    sentinel2_list = sentinel2_l1r_rrs.toList(sentinel2_l1r_rrs.size()) # Collection to List for iteration\n",
    "    # pre processing\n",
    "\n",
    "    # during\n",
    "    sentinel2_l2r_rrs = ee.ImageCollection.fromImages( [ ACOLITE.dsf(ee.Image(sentinel2_list.get(i)))[0] for i in range(sentinel2_l1r_rrs.size().getInfo()) ] )\n",
    "    sentinel2_l2r_rrs_deglint = ee.ImageCollection.fromImages( [ ACOLITE.deglint_alternative(*ACOLITE.dsf(ee.Image(sentinel2_list.get(i)))) for i in range(sentinel2_l1r_rrs.size().getInfo()) ] )\n",
    "    # during\n",
    "\n",
    "    # post processing\n",
    "    sentinel2_l2w_rrs = sentinel2_l2r_rrs.map(ACOLITE.mask_water_by_SWIR1)\n",
    "    sentinel2_l2w_rrs_deglint = sentinel2_l2r_rrs_deglint.map(ACOLITE.mask_water_by_SWIR1)\n",
    "    # post processing\n",
    "    \n",
    "    for product in [ACOLITE.add_zgreen, ACOLITE.add_zred]:\n",
    "        sentinel2_l2w_rrs = sentinel2_l2w_rrs.map(product)\n",
    "        sentinel2_l2w_rrs_deglint = sentinel2_l2w_rrs_deglint.map(product)\n",
    "    \n",
    "    # geemap.download_ee_image(sentinel2_l2w_rrs.first().select(['zgreen', 'zred']), \n",
    "    #                      rf\"C:\\Users\\sergi\\Documents\\repos\\gee_acolite\\results\\DCI\\Version_20231023_Date_{start.replace('-','')}.tif\", \n",
    "    #                      roi, 'EPSG:32721', scale = 10)\n",
    "    #                     #  roi, 'EPSG:25829', scale = 10)\n",
    "    # geemap.download_ee_image(sentinel2_l2w_rrs_deglint.first().select(['zgreen', 'zred']), \n",
    "    #                      rf\"C:\\Users\\sergi\\Documents\\repos\\gee_acolite\\results\\DCI\\Version_20231023_Deglint_Date_{start.replace('-','')}.tif\", \n",
    "    #                      roi, 'EPSG:32721', scale = 10)\n",
    "    #                     #  roi, 'EPSG:25829', scale = 10)"
   ]
  },
  {
   "cell_type": "code",
   "execution_count": 4,
   "metadata": {},
   "outputs": [
    {
     "data": {
      "text/html": [
       "\n",
       "            <style>\n",
       "                .geemap-dark {\n",
       "                    --jp-widgets-color: white;\n",
       "                    --jp-widgets-label-color: white;\n",
       "                    --jp-ui-font-color1: white;\n",
       "                    --jp-layout-color2: #454545;\n",
       "                    background-color: #383838;\n",
       "                }\n",
       "\n",
       "                .geemap-dark .jupyter-button {\n",
       "                    --jp-layout-color3: #383838;\n",
       "                }\n",
       "\n",
       "                .geemap-colab {\n",
       "                    background-color: var(--colab-primary-surface-color, white);\n",
       "                }\n",
       "\n",
       "                .geemap-colab .jupyter-button {\n",
       "                    --jp-layout-color3: var(--colab-primary-surface-color, white);\n",
       "                }\n",
       "            </style>\n",
       "            "
      ],
      "text/plain": [
       "<IPython.core.display.HTML object>"
      ]
     },
     "metadata": {},
     "output_type": "display_data"
    },
    {
     "data": {
      "application/vnd.jupyter.widget-view+json": {
       "model_id": "3bb9bec373824901939e4e5abe4efdac",
       "version_major": 2,
       "version_minor": 0
      },
      "text/plain": [
       "Map(center=[0, 0], controls=(WidgetControl(options=['position', 'transparent_bg'], widget=SearchDataGUI(childr…"
      ]
     },
     "execution_count": 4,
     "metadata": {},
     "output_type": "execute_result"
    }
   ],
   "source": [
    "import geemap.colormaps as cm\n",
    "\n",
    "rgb_params = {\n",
    "    'bands': ['B4', 'B3', 'B2'],\n",
    "    'min': 0,\n",
    "    'max': 0.5,\n",
    "    'gamma': 1.4\n",
    "}\n",
    "\n",
    "zred_params = {\n",
    "    'palette': cm.palettes.viridis_r,\n",
    "    'min': 1,\n",
    "    'max': 1.3,\n",
    "}\n",
    "\n",
    "\n",
    "deception_land = geemap.shp_to_ee(r'C:\\Users\\sergi\\Documents\\repos\\bathypy\\data\\shapefiles\\deception\\deception.shp')\n",
    "mask = ee.Image.constant(1).clip(deception_land).mask().Not()\n",
    "\n",
    "Map = geemap.Map()\n",
    "Map.add_basemap('Esri.WorldImagery', show=False)\n",
    "Map.addLayerControl()\n",
    "Map.center_object(roi)\n",
    "Map.addLayer(sentinel2_l2r_rrs.mosaic(), rgb_params, f\"Sentinel2 L2R\")\n",
    "Map.addLayer(sentinel2_l2w_rrs.mosaic().updateMask(mask).select('zred'), zred_params, f\"Sentinel2 L2W\")\n",
    "Map.addLayer(roi, {}, f\"ROI\")\n",
    "Map.add_colorbar(zred_params, label=\"Z red (DII)\", layer_name=\"zred\")\n",
    "Map"
   ]
  }
 ],
 "metadata": {
  "kernelspec": {
   "display_name": "env",
   "language": "python",
   "name": "python3"
  },
  "language_info": {
   "codemirror_mode": {
    "name": "ipython",
    "version": 3
   },
   "file_extension": ".py",
   "mimetype": "text/x-python",
   "name": "python",
   "nbconvert_exporter": "python",
   "pygments_lexer": "ipython3",
   "version": "3.10.11"
  }
 },
 "nbformat": 4,
 "nbformat_minor": 2
}

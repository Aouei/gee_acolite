{
 "cells": [
  {
   "cell_type": "code",
   "execution_count": 1,
   "metadata": {},
   "outputs": [],
   "source": [
    "import ee\n",
    "import geemap\n",
    "\n",
    "ee.Authenticate()\n",
    "ee.Initialize()"
   ]
  },
  {
   "cell_type": "code",
   "execution_count": 2,
   "metadata": {},
   "outputs": [
    {
     "data": {
      "text/html": [
       "\n",
       "            <style>\n",
       "                .geemap-dark {\n",
       "                    --jp-widgets-color: white;\n",
       "                    --jp-widgets-label-color: white;\n",
       "                    --jp-ui-font-color1: white;\n",
       "                    --jp-layout-color2: #454545;\n",
       "                    background-color: #383838;\n",
       "                }\n",
       "\n",
       "                .geemap-dark .jupyter-button {\n",
       "                    --jp-layout-color3: #383838;\n",
       "                }\n",
       "\n",
       "                .geemap-colab {\n",
       "                    background-color: var(--colab-primary-surface-color, white);\n",
       "                }\n",
       "\n",
       "                .geemap-colab .jupyter-button {\n",
       "                    --jp-layout-color3: var(--colab-primary-surface-color, white);\n",
       "                }\n",
       "            </style>\n",
       "            "
      ],
      "text/plain": [
       "<IPython.core.display.HTML object>"
      ]
     },
     "metadata": {},
     "output_type": "display_data"
    }
   ],
   "source": [
    "import sys\n",
    "import ee\n",
    "\n",
    "\n",
    "ACOLITE_PATH = r'C:\\Users\\sergi\\Documents\\repos\\gee_acolite\\src'\n",
    "\n",
    "sys.path.append(ACOLITE_PATH)\n",
    "\n",
    "import ACOLITE"
   ]
  },
  {
   "cell_type": "code",
   "execution_count": 3,
   "metadata": {},
   "outputs": [
    {
     "data": {
      "text/html": [
       "\n",
       "            <style>\n",
       "                .geemap-dark {\n",
       "                    --jp-widgets-color: white;\n",
       "                    --jp-widgets-label-color: white;\n",
       "                    --jp-ui-font-color1: white;\n",
       "                    --jp-layout-color2: #454545;\n",
       "                    background-color: #383838;\n",
       "                }\n",
       "\n",
       "                .geemap-dark .jupyter-button {\n",
       "                    --jp-layout-color3: #383838;\n",
       "                }\n",
       "\n",
       "                .geemap-colab {\n",
       "                    background-color: var(--colab-primary-surface-color, white);\n",
       "                }\n",
       "\n",
       "                .geemap-colab .jupyter-button {\n",
       "                    --jp-layout-color3: var(--colab-primary-surface-color, white);\n",
       "                }\n",
       "            </style>\n",
       "            "
      ],
      "text/plain": [
       "<IPython.core.display.HTML object>"
      ]
     },
     "metadata": {},
     "output_type": "display_data"
    },
    {
     "name": "stdout",
     "output_type": "stream",
     "text": [
      "Tile 22JGQ, L1 to L2 via Fixed DSF AC\n",
      "Collection size 1\n"
     ]
    }
   ],
   "source": [
    "bounds = [-48.490219, -27.634741, -48.423615, -27.509432]\n",
    "# start, end = '2018-01-30', '2018-01-31'\n",
    "start, end = '2017-01-12', '2017-01-13'\n",
    "tile = '22JGQ'\n",
    "\n",
    "roi = ee.Geometry.Rectangle(bounds)\n",
    "\n",
    "sentinel2_l1 = ACOLITE.search_with_clouds(roi, start, end, tile = tile)\n",
    "print(f'Tile {tile}, L1 to L2 via Fixed DSF AC')\n",
    "print(f'Collection size {sentinel2_l1.size().getInfo()}')\n",
    "\n",
    "sentinel2_l1r_rrs = sentinel2_l1.map(ACOLITE.filter_bands).map(ACOLITE.to_rrs)\n",
    "sentinel2_list = sentinel2_l1r_rrs.toList(sentinel2_l1r_rrs.size())\n",
    "\n",
    "sentinel2_l2r_rrs = ee.ImageCollection.fromImages( [ ACOLITE.dsf( ee.Image(sentinel2_list.get(i)) )[0] for i in range(sentinel2_l1r_rrs.size().getInfo()) ] )\n",
    "sentinel2_l2r_rrs_deglint = ee.ImageCollection.fromImages( [ ACOLITE.remove_glint(*ACOLITE.dsf( ee.Image(sentinel2_list.get(i)))) for i in range(sentinel2_l1r_rrs.size().getInfo()) ] )"
   ]
  },
  {
   "cell_type": "code",
   "execution_count": 4,
   "metadata": {},
   "outputs": [
    {
     "data": {
      "text/html": [
       "\n",
       "            <style>\n",
       "                .geemap-dark {\n",
       "                    --jp-widgets-color: white;\n",
       "                    --jp-widgets-label-color: white;\n",
       "                    --jp-ui-font-color1: white;\n",
       "                    --jp-layout-color2: #454545;\n",
       "                    background-color: #383838;\n",
       "                }\n",
       "\n",
       "                .geemap-dark .jupyter-button {\n",
       "                    --jp-layout-color3: #383838;\n",
       "                }\n",
       "\n",
       "                .geemap-colab {\n",
       "                    background-color: var(--colab-primary-surface-color, white);\n",
       "                }\n",
       "\n",
       "                .geemap-colab .jupyter-button {\n",
       "                    --jp-layout-color3: var(--colab-primary-surface-color, white);\n",
       "                }\n",
       "            </style>\n",
       "            "
      ],
      "text/plain": [
       "<IPython.core.display.HTML object>"
      ]
     },
     "metadata": {},
     "output_type": "display_data"
    },
    {
     "data": {
      "application/vnd.jupyter.widget-view+json": {
       "model_id": "fca9fa6830fd4eafb5331775a1e1dce4",
       "version_major": 2,
       "version_minor": 0
      },
      "text/plain": [
       "Map(center=[0, 0], controls=(WidgetControl(options=['position', 'transparent_bg'], widget=SearchDataGUI(childr…"
      ]
     },
     "execution_count": 4,
     "metadata": {},
     "output_type": "execute_result"
    }
   ],
   "source": [
    "Map = geemap.Map()\n",
    "Map.add_layer_control()\n",
    "\n",
    "vis_params = {\n",
    "    'bands': ['B4', 'B3', 'B2'],\n",
    "    'min': 0,\n",
    "    'max': 0.5,\n",
    "    'gamma': 1.4\n",
    "}\n",
    "\n",
    "Map.addLayer(sentinel2_l1r_rrs.first(), vis_params, \"Sentinel-2 L1 RGB\")\n",
    "Map.addLayer(sentinel2_l2r_rrs.first(), vis_params, \"Sentinel-2 L2 RGB\")\n",
    "Map.addLayer(sentinel2_l2r_rrs_deglint.first(), vis_params, \"Sentinel-2 L2 Deglint RGB\")\n",
    "\n",
    "Map.centerObject(roi)\n",
    "Map"
   ]
  }
 ],
 "metadata": {
  "kernelspec": {
   "display_name": "env",
   "language": "python",
   "name": "python3"
  },
  "language_info": {
   "codemirror_mode": {
    "name": "ipython",
    "version": 3
   },
   "file_extension": ".py",
   "mimetype": "text/x-python",
   "name": "python",
   "nbconvert_exporter": "python",
   "pygments_lexer": "ipython3",
   "version": "3.10.11"
  }
 },
 "nbformat": 4,
 "nbformat_minor": 2
}

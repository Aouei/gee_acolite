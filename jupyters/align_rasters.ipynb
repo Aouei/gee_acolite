{
 "cells": [
  {
   "cell_type": "code",
   "execution_count": 25,
   "metadata": {},
   "outputs": [
    {
     "name": "stdout",
     "output_type": "stream",
     "text": [
      "Reproyección y alineación completadas.\n"
     ]
    }
   ],
   "source": [
    "import rasterio\n",
    "from rasterio.warp import calculate_default_transform, reproject, Resampling\n",
    "\n",
    "# Archivos de entrada\n",
    "raster_utm20 = r\"C:\\Users\\sergi\\Desktop\\DCI_UTM20_1M.tif\" # Ráster a reproyectar\n",
    "raster_utm21 = r\"C:\\Users\\sergi\\Documents\\repos\\bathypy\\data\\raster\\Satellite\\DCI\\492_reference.tif\" # Ráster de referencia\n",
    "raster_reproyectado = \"DCI_UTM20_1MM.tif\"  # Salida alineada\n",
    "\n",
    "# Leer el ráster de referencia (UTM 20)\n",
    "with rasterio.open(raster_utm21) as src_ref:\n",
    "    ref_crs = src_ref.crs  # Obtener la proyección objetivo\n",
    "\n",
    "# Leer el ráster en UTM 21\n",
    "with rasterio.open(raster_utm20) as src:\n",
    "    transform, width, height = calculate_default_transform(\n",
    "        src.crs, ref_crs, src.width, src.height, *src.bounds\n",
    "    )\n",
    "    \n",
    "    # Crear metadatos del nuevo ráster\n",
    "    kwargs = src.meta.copy()\n",
    "    kwargs.update({\n",
    "        'crs': ref_crs,\n",
    "        'transform': src_ref.transform,\n",
    "        'width': src_ref.width,\n",
    "        'height': src_ref.height\n",
    "    })\n",
    "\n",
    "    # Reproyectar y guardar\n",
    "    with rasterio.open(raster_reproyectado, 'w', **kwargs) as dst:\n",
    "        for i in range(1, src.count + 1):  # Bandas\n",
    "            reproject(\n",
    "                source=rasterio.band(src, i),\n",
    "                destination=rasterio.band(dst, i),\n",
    "                src_transform=src.transform,\n",
    "                src_crs=src.crs,\n",
    "                dst_transform=transform,\n",
    "                dst_crs=ref_crs,\n",
    "                resampling=Resampling.average\n",
    "            )\n",
    "\n",
    "print(\"Reproyección y alineación completadas.\")"
   ]
  },
  {
   "cell_type": "code",
   "execution_count": 28,
   "metadata": {},
   "outputs": [
    {
     "name": "stdout",
     "output_type": "stream",
     "text": [
      "(1, 2138, 2173)\n"
     ]
    },
    {
     "data": {
      "text/plain": [
       "array([[[nan, nan, nan, ..., nan, nan, nan],\n",
       "        [nan, nan, nan, ..., nan, nan, nan],\n",
       "        [nan, nan, nan, ..., nan, nan, nan],\n",
       "        ...,\n",
       "        [nan, nan, nan, ..., nan, nan, nan],\n",
       "        [nan, nan, nan, ..., nan, nan, nan],\n",
       "        [nan, nan, nan, ..., nan, nan, nan]]])"
      ]
     },
     "execution_count": 28,
     "metadata": {},
     "output_type": "execute_result"
    }
   ],
   "source": [
    "import rasterio\n",
    "import numpy as np\n",
    "\n",
    "\n",
    "filenames = [\n",
    "r\"C:\\Users\\sergi\\Documents\\repos\\gee_acolite\\jupyters\\DCI_UTM20_1M.tif\",\n",
    "r\"C:\\Users\\sergi\\Documents\\repos\\gee_acolite\\jupyters\\DCI_UTM20_2M.tif\",\n",
    "r\"C:\\Users\\sergi\\Documents\\repos\\gee_acolite\\jupyters\\DCI_UTM20_4M.tif\",\n",
    "]\n",
    "\n",
    "with rasterio.open(filenames[0]) as src:\n",
    "    data = src.read()\n",
    "    data[:] = np.nan\n",
    "    profile = src.profile\n",
    "    profile['nodata'] = np.nan\n",
    "    no_values = np.isnan(data)\n",
    "\n",
    "print(data.shape)\n",
    "\n",
    "with rasterio.open(r\"C:\\Users\\sergi\\Documents\\repos\\gee_acolite\\jupyters\\DCI_UTM20_ALL.tif\", 'w', **profile) as dst:\n",
    "    for filename in filenames:\n",
    "        with rasterio.open(filename) as src:\n",
    "            depth = src.read()\n",
    "            depth[depth == -99999] = np.nan\n",
    "            no_values &= np.isnan(depth)\n",
    "            data = np.nansum([depth, data], axis = 0)\n",
    "            data[no_values] = np.nan\n",
    "\n",
    "    dst.write(data)\n",
    "\n",
    "data"
   ]
  }
 ],
 "metadata": {
  "kernelspec": {
   "display_name": "env",
   "language": "python",
   "name": "python3"
  },
  "language_info": {
   "codemirror_mode": {
    "name": "ipython",
    "version": 3
   },
   "file_extension": ".py",
   "mimetype": "text/x-python",
   "name": "python",
   "nbconvert_exporter": "python",
   "pygments_lexer": "ipython3",
   "version": "3.10.11"
  }
 },
 "nbformat": 4,
 "nbformat_minor": 2
}
